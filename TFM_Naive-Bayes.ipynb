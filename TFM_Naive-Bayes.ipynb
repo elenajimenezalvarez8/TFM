{
 "cells": [
  {
   "cell_type": "code",
   "execution_count": 1,
   "id": "276fffc8",
   "metadata": {
    "ExecuteTime": {
     "end_time": "2022-05-16T13:26:55.460980Z",
     "start_time": "2022-05-16T13:26:53.621904Z"
    }
   },
   "outputs": [],
   "source": [
    "import numpy as np \n",
    "import pandas as pd \n",
    "import re\n",
    "import nltk \n",
    "import matplotlib.pyplot as plt\n",
    "%matplotlib inline"
   ]
  },
  {
   "cell_type": "code",
   "execution_count": 2,
   "id": "44efa917",
   "metadata": {
    "ExecuteTime": {
     "end_time": "2022-05-16T13:26:55.508976Z",
     "start_time": "2022-05-16T13:26:55.464983Z"
    }
   },
   "outputs": [
    {
     "data": {
      "text/html": [
       "<div>\n",
       "<style scoped>\n",
       "    .dataframe tbody tr th:only-of-type {\n",
       "        vertical-align: middle;\n",
       "    }\n",
       "\n",
       "    .dataframe tbody tr th {\n",
       "        vertical-align: top;\n",
       "    }\n",
       "\n",
       "    .dataframe thead th {\n",
       "        text-align: right;\n",
       "    }\n",
       "</style>\n",
       "<table border=\"1\" class=\"dataframe\">\n",
       "  <thead>\n",
       "    <tr style=\"text-align: right;\">\n",
       "      <th></th>\n",
       "      <th>ratingComments</th>\n",
       "      <th>Sentiment</th>\n",
       "      <th>category</th>\n",
       "    </tr>\n",
       "  </thead>\n",
       "  <tbody>\n",
       "    <tr>\n",
       "      <th>0</th>\n",
       "      <td>Es muy caro! Bajad los precios!</td>\n",
       "      <td>N</td>\n",
       "      <td>Price</td>\n",
       "    </tr>\n",
       "    <tr>\n",
       "      <th>1</th>\n",
       "      <td>Lo habéis puesto más caro</td>\n",
       "      <td>N</td>\n",
       "      <td>Price</td>\n",
       "    </tr>\n",
       "    <tr>\n",
       "      <th>2</th>\n",
       "      <td>Los coches que tenéis no se corresponden con e...</td>\n",
       "      <td>N</td>\n",
       "      <td>Price</td>\n",
       "    </tr>\n",
       "    <tr>\n",
       "      <th>3</th>\n",
       "      <td>Espero que bajeis el precio</td>\n",
       "      <td>N</td>\n",
       "      <td>Price</td>\n",
       "    </tr>\n",
       "    <tr>\n",
       "      <th>4</th>\n",
       "      <td>Cobráis por todo, a este ritmo yo me cambio</td>\n",
       "      <td>N</td>\n",
       "      <td>Price</td>\n",
       "    </tr>\n",
       "  </tbody>\n",
       "</table>\n",
       "</div>"
      ],
      "text/plain": [
       "                                      ratingComments Sentiment category\n",
       "0                    Es muy caro! Bajad los precios!         N    Price\n",
       "1                          Lo habéis puesto más caro         N    Price\n",
       "2  Los coches que tenéis no se corresponden con e...         N    Price\n",
       "3                        Espero que bajeis el precio         N    Price\n",
       "4        Cobráis por todo, a este ritmo yo me cambio         N    Price"
      ]
     },
     "execution_count": 2,
     "metadata": {},
     "output_type": "execute_result"
    }
   ],
   "source": [
    "#Se cargan los datos:\n",
    "import pandas as pd\n",
    "data = pd.read_csv('Comentarios_Ejemplo.csv', delimiter=\";\")\n",
    "data.head()"
   ]
  },
  {
   "cell_type": "code",
   "execution_count": 3,
   "id": "0c9fe474",
   "metadata": {
    "ExecuteTime": {
     "end_time": "2022-05-16T13:26:55.603100Z",
     "start_time": "2022-05-16T13:26:55.511978Z"
    }
   },
   "outputs": [
    {
     "name": "stdout",
     "output_type": "stream",
     "text": [
      "6.0\n",
      "4.0\n"
     ]
    }
   ],
   "source": [
    "plot_size = plt.rcParams[\"figure.figsize\"] \n",
    "print(plot_size[0]) \n",
    "print(plot_size[1])\n",
    "\n",
    "plot_size[0] = 8\n",
    "plot_size[1] = 6\n",
    "plt.rcParams[\"figure.figsize\"] = plot_size "
   ]
  },
  {
   "cell_type": "code",
   "execution_count": 4,
   "id": "8b4511c0",
   "metadata": {
    "ExecuteTime": {
     "end_time": "2022-05-16T13:26:55.916421Z",
     "start_time": "2022-05-16T13:26:55.608989Z"
    }
   },
   "outputs": [
    {
     "data": {
      "text/plain": [
       "<AxesSubplot:ylabel='category'>"
      ]
     },
     "execution_count": 4,
     "metadata": {},
     "output_type": "execute_result"
    },
    {
     "data": {
      "image/png": "[encoded data removed]",
      "text/plain": [
       "<Figure size 576x432 with 1 Axes>"
      ]
     },
     "metadata": {},
     "output_type": "display_data"
    }
   ],
   "source": [
    "data.category.value_counts().plot(kind='pie', autopct=\"%1.0f%%\")"
   ]
  },
  {
   "cell_type": "code",
   "execution_count": 5,
   "id": "9e9be4b1",
   "metadata": {
    "ExecuteTime": {
     "end_time": "2022-05-16T13:26:56.042145Z",
     "start_time": "2022-05-16T13:26:55.918211Z"
    }
   },
   "outputs": [
    {
     "data": {
      "text/plain": [
       "<AxesSubplot:ylabel='Sentiment'>"
      ]
     },
     "execution_count": 5,
     "metadata": {},
     "output_type": "execute_result"
    },
    {
     "data": {
      "image/png": "[encoded data removed]",
      "text/plain": [
       "<Figure size 576x432 with 1 Axes>"
      ]
     },
     "metadata": {},
     "output_type": "display_data"
    }
   ],
   "source": [
    "data.Sentiment.value_counts().plot(kind='pie', autopct=\"%1.0f%%\", colors=[\"red\", \"yellow\", \"green\"])"
   ]
  },
  {
   "cell_type": "code",
   "execution_count": 6,
   "id": "9454d681",
   "metadata": {
    "ExecuteTime": {
     "end_time": "2022-05-16T13:26:56.294313Z",
     "start_time": "2022-05-16T13:26:56.044145Z"
    }
   },
   "outputs": [
    {
     "data": {
      "text/plain": [
       "<AxesSubplot:xlabel='category'>"
      ]
     },
     "execution_count": 6,
     "metadata": {},
     "output_type": "execute_result"
    },
    {
     "data": {
      "image/png": "[encoded data removed]",
      "text/plain": [
       "<Figure size 576x432 with 1 Axes>"
      ]
     },
     "metadata": {
      "needs_background": "light"
     },
     "output_type": "display_data"
    }
   ],
   "source": [
    "category_sentiment = data.groupby(['category', 'Sentiment']).Sentiment.count().unstack()\n",
    "category_sentiment.plot(kind='bar')"
   ]
  },
  {
   "cell_type": "code",
   "execution_count": 7,
   "id": "3ea7d4e1",
   "metadata": {
    "ExecuteTime": {
     "end_time": "2022-05-16T13:26:56.324150Z",
     "start_time": "2022-05-16T13:26:56.297149Z"
    }
   },
   "outputs": [
    {
     "data": {
      "text/html": [
       "<div>\n",
       "<style scoped>\n",
       "    .dataframe tbody tr th:only-of-type {\n",
       "        vertical-align: middle;\n",
       "    }\n",
       "\n",
       "    .dataframe tbody tr th {\n",
       "        vertical-align: top;\n",
       "    }\n",
       "\n",
       "    .dataframe thead th {\n",
       "        text-align: right;\n",
       "    }\n",
       "</style>\n",
       "<table border=\"1\" class=\"dataframe\">\n",
       "  <thead>\n",
       "    <tr style=\"text-align: right;\">\n",
       "      <th></th>\n",
       "      <th>ratingComments</th>\n",
       "      <th>Sentiment</th>\n",
       "      <th>category</th>\n",
       "    </tr>\n",
       "  </thead>\n",
       "  <tbody>\n",
       "    <tr>\n",
       "      <th>0</th>\n",
       "      <td>es muy caro! bajad los precios!</td>\n",
       "      <td>N</td>\n",
       "      <td>Price</td>\n",
       "    </tr>\n",
       "    <tr>\n",
       "      <th>1</th>\n",
       "      <td>lo habéis puesto más caro</td>\n",
       "      <td>N</td>\n",
       "      <td>Price</td>\n",
       "    </tr>\n",
       "    <tr>\n",
       "      <th>2</th>\n",
       "      <td>los coches que tenéis no se corresponden con e...</td>\n",
       "      <td>N</td>\n",
       "      <td>Price</td>\n",
       "    </tr>\n",
       "    <tr>\n",
       "      <th>3</th>\n",
       "      <td>espero que bajeis el precio</td>\n",
       "      <td>N</td>\n",
       "      <td>Price</td>\n",
       "    </tr>\n",
       "    <tr>\n",
       "      <th>4</th>\n",
       "      <td>cobráis por todo, a este ritmo yo me cambio</td>\n",
       "      <td>N</td>\n",
       "      <td>Price</td>\n",
       "    </tr>\n",
       "  </tbody>\n",
       "</table>\n",
       "</div>"
      ],
      "text/plain": [
       "                                      ratingComments Sentiment category\n",
       "0                    es muy caro! bajad los precios!         N    Price\n",
       "1                          lo habéis puesto más caro         N    Price\n",
       "2  los coches que tenéis no se corresponden con e...         N    Price\n",
       "3                        espero que bajeis el precio         N    Price\n",
       "4        cobráis por todo, a este ritmo yo me cambio         N    Price"
      ]
     },
     "execution_count": 7,
     "metadata": {},
     "output_type": "execute_result"
    }
   ],
   "source": [
    "# 1.Se convierte la columna rating comments a minuscula:\n",
    "data[\"ratingComments\"] = data[\"ratingComments\"].str.lower()\n",
    "data.head() "
   ]
  },
  {
   "cell_type": "code",
   "execution_count": 8,
   "id": "f0761784",
   "metadata": {
    "ExecuteTime": {
     "end_time": "2022-05-16T13:26:57.024196Z",
     "start_time": "2022-05-16T13:26:57.001197Z"
    }
   },
   "outputs": [
    {
     "data": {
      "text/html": [
       "<div>\n",
       "<style scoped>\n",
       "    .dataframe tbody tr th:only-of-type {\n",
       "        vertical-align: middle;\n",
       "    }\n",
       "\n",
       "    .dataframe tbody tr th {\n",
       "        vertical-align: top;\n",
       "    }\n",
       "\n",
       "    .dataframe thead th {\n",
       "        text-align: right;\n",
       "    }\n",
       "</style>\n",
       "<table border=\"1\" class=\"dataframe\">\n",
       "  <thead>\n",
       "    <tr style=\"text-align: right;\">\n",
       "      <th></th>\n",
       "      <th>ratingComments</th>\n",
       "      <th>Sentiment</th>\n",
       "      <th>category</th>\n",
       "    </tr>\n",
       "  </thead>\n",
       "  <tbody>\n",
       "    <tr>\n",
       "      <th>0</th>\n",
       "      <td>es muy caro! bajad los precios!</td>\n",
       "      <td>N</td>\n",
       "      <td>Price</td>\n",
       "    </tr>\n",
       "    <tr>\n",
       "      <th>1</th>\n",
       "      <td>lo habéis puesto más caro</td>\n",
       "      <td>N</td>\n",
       "      <td>Price</td>\n",
       "    </tr>\n",
       "    <tr>\n",
       "      <th>2</th>\n",
       "      <td>los coches que tenéis no se corresponden con e...</td>\n",
       "      <td>N</td>\n",
       "      <td>Price</td>\n",
       "    </tr>\n",
       "    <tr>\n",
       "      <th>3</th>\n",
       "      <td>espero que bajeis el precio</td>\n",
       "      <td>N</td>\n",
       "      <td>Price</td>\n",
       "    </tr>\n",
       "    <tr>\n",
       "      <th>4</th>\n",
       "      <td>cobráis por todo, a este ritmo yo me cambio</td>\n",
       "      <td>N</td>\n",
       "      <td>Price</td>\n",
       "    </tr>\n",
       "  </tbody>\n",
       "</table>\n",
       "</div>"
      ],
      "text/plain": [
       "                                      ratingComments Sentiment category\n",
       "0                    es muy caro! bajad los precios!         N    Price\n",
       "1                          lo habéis puesto más caro         N    Price\n",
       "2  los coches que tenéis no se corresponden con e...         N    Price\n",
       "3                        espero que bajeis el precio         N    Price\n",
       "4        cobráis por todo, a este ritmo yo me cambio         N    Price"
      ]
     },
     "execution_count": 8,
     "metadata": {},
     "output_type": "execute_result"
    }
   ],
   "source": [
    "# 2. Se quitan los espaciados innecesarios:\n",
    "\n",
    "data[\"ratingComments\"] = data[\"ratingComments\"].str.strip()\n",
    "\n",
    "data.head() "
   ]
  },
  {
   "cell_type": "code",
   "execution_count": 9,
   "id": "125fad6c",
   "metadata": {
    "ExecuteTime": {
     "end_time": "2022-05-16T13:26:59.824434Z",
     "start_time": "2022-05-16T13:26:59.721237Z"
    }
   },
   "outputs": [
    {
     "name": "stderr",
     "output_type": "stream",
     "text": [
      "<ipython-input-9-b464aa3b027c>:9: FutureWarning: The default value of regex will change from True to False in a future version. In addition, single character regular expressions will*not* be treated as literal strings when regex=True.\n",
      "  data[\"ratingComments\"]=data[\"ratingComments\"].str.replace(\"?\",\"\")\n"
     ]
    },
    {
     "data": {
      "text/html": [
       "<div>\n",
       "<style scoped>\n",
       "    .dataframe tbody tr th:only-of-type {\n",
       "        vertical-align: middle;\n",
       "    }\n",
       "\n",
       "    .dataframe tbody tr th {\n",
       "        vertical-align: top;\n",
       "    }\n",
       "\n",
       "    .dataframe thead th {\n",
       "        text-align: right;\n",
       "    }\n",
       "</style>\n",
       "<table border=\"1\" class=\"dataframe\">\n",
       "  <thead>\n",
       "    <tr style=\"text-align: right;\">\n",
       "      <th></th>\n",
       "      <th>ratingComments</th>\n",
       "      <th>Sentiment</th>\n",
       "      <th>category</th>\n",
       "    </tr>\n",
       "  </thead>\n",
       "  <tbody>\n",
       "    <tr>\n",
       "      <th>0</th>\n",
       "      <td>es muy caro bajad los precios</td>\n",
       "      <td>N</td>\n",
       "      <td>Price</td>\n",
       "    </tr>\n",
       "    <tr>\n",
       "      <th>1</th>\n",
       "      <td>lo habeis puesto mas caro</td>\n",
       "      <td>N</td>\n",
       "      <td>Price</td>\n",
       "    </tr>\n",
       "    <tr>\n",
       "      <th>2</th>\n",
       "      <td>los coches que teneis no se corresponden con e...</td>\n",
       "      <td>N</td>\n",
       "      <td>Price</td>\n",
       "    </tr>\n",
       "    <tr>\n",
       "      <th>3</th>\n",
       "      <td>espero que bajeis el precio</td>\n",
       "      <td>N</td>\n",
       "      <td>Price</td>\n",
       "    </tr>\n",
       "    <tr>\n",
       "      <th>4</th>\n",
       "      <td>cobrais por todo, a este ritmo yo me cambio</td>\n",
       "      <td>N</td>\n",
       "      <td>Price</td>\n",
       "    </tr>\n",
       "  </tbody>\n",
       "</table>\n",
       "</div>"
      ],
      "text/plain": [
       "                                      ratingComments Sentiment category\n",
       "0                      es muy caro bajad los precios         N    Price\n",
       "1                          lo habeis puesto mas caro         N    Price\n",
       "2  los coches que teneis no se corresponden con e...         N    Price\n",
       "3                        espero que bajeis el precio         N    Price\n",
       "4        cobrais por todo, a este ritmo yo me cambio         N    Price"
      ]
     },
     "execution_count": 9,
     "metadata": {},
     "output_type": "execute_result"
    }
   ],
   "source": [
    "# 3. Se eliminan los signos de puntuación (signos, comas, etc.)\n",
    "\n",
    "from string import punctuation as punc\n",
    "\n",
    "for ch in punc:\n",
    "    if ch in data[\"ratingComments\"]:\n",
    "        data[\"ratingComments\"]=data[\"ratingComments\"].replace(ch, '')\n",
    "        \n",
    "data[\"ratingComments\"]=data[\"ratingComments\"].str.replace(\"?\",\"\")\n",
    "data[\"ratingComments\"]=data[\"ratingComments\"].str.replace(\"!\",\"\")\n",
    "data[\"ratingComments\"]=data[\"ratingComments\"].str.normalize('NFKD').str.encode('ascii', errors='ignore').str.decode('utf-8')\n",
    "\n",
    "data.head() "
   ]
  },
  {
   "cell_type": "code",
   "execution_count": 10,
   "id": "d695498e",
   "metadata": {
    "ExecuteTime": {
     "end_time": "2022-05-16T13:27:00.449826Z",
     "start_time": "2022-05-16T13:27:00.120860Z"
    }
   },
   "outputs": [
    {
     "name": "stderr",
     "output_type": "stream",
     "text": [
      "<ipython-input-10-6828978d1b7a>:11: FutureWarning: Passing a negative integer is deprecated in version 1.0 and will not be supported in future version. Instead, use None to not limit the column width.\n",
      "  pd.set_option('display.max_colwidth', -1)\n"
     ]
    }
   ],
   "source": [
    "# 4. Se realiza el proceso de stemming\n",
    "\n",
    "from nltk.stem.snowball import SnowballStemmer\n",
    "\n",
    "stemmer = SnowballStemmer(\"spanish\")\n",
    "\n",
    "df = pd.DataFrame(data, columns = ['ratingComments']) \n",
    "\n",
    "df['ratingComments'] = df['ratingComments'].str.split()\n",
    "\n",
    "pd.set_option('display.max_colwidth', -1)\n",
    "\n",
    "df['ratingComments'] = df['ratingComments'].apply(lambda x: [stemmer.stem(y) for y in x]) # Stem every word.\n",
    "\n",
    "data['ratingComments']=df['ratingComments']\n",
    "\n",
    "data['ratingComments'] = [','.join(map(str, l)) for l in data['ratingComments']]"
   ]
  },
  {
   "cell_type": "code",
   "execution_count": 11,
   "id": "32ab04c9",
   "metadata": {
    "ExecuteTime": {
     "end_time": "2022-05-16T13:27:01.178037Z",
     "start_time": "2022-05-16T13:27:00.746737Z"
    }
   },
   "outputs": [],
   "source": [
    "# 5.Realizamos un proceso manual para reducir palabaras a su raíz:\n",
    "\n",
    "data[\"ratingComments\"]=data[\"ratingComments\"].str.replace(\"abiertas\",\"abiert\")\n",
    "data[\"ratingComments\"]=data[\"ratingComments\"].str.replace(\"abrid\",\"abiert\")\n",
    "data[\"ratingComments\"]=data[\"ratingComments\"].str.replace(\"abrieron\",\"abiert\")\n",
    "data[\"ratingComments\"]=data[\"ratingComments\"].str.replace(\"abrir\",\"abiert\")\n",
    "data[\"ratingComments\"]=data[\"ratingComments\"].str.replace(\"adme\",\"adem\")\n",
    "data[\"ratingComments\"]=data[\"ratingComments\"].str.replace(\"acabais\",\"acab\")\n",
    "data[\"ratingComments\"]=data[\"ratingComments\"].str.replace(\"acparc\",\"aparc\")\n",
    "data[\"ratingComments\"]=data[\"ratingComments\"].str.replace(\"aparcar\",\"aparc\")\n",
    "data[\"ratingComments\"]=data[\"ratingComments\"].str.replace(\"acparc\",\"aparc\")\n",
    "data[\"ratingComments\"]=data[\"ratingComments\"].str.replace(\"actualizacion\",\"actualiz\")\n",
    "data[\"ratingComments\"]=data[\"ratingComments\"].str.replace(\"ademas\",\"adem\")\n",
    "data[\"ratingComments\"]=data[\"ratingComments\"].str.replace(\"agradezc\",\"agradec\")\n",
    "data[\"ratingComments\"]=data[\"ratingComments\"].str.replace(\"ahora\",\"ahor\")\n",
    "data[\"ratingComments\"]=data[\"ratingComments\"].str.replace(\"alegri'\",\"alegr\")\n",
    "data[\"ratingComments\"]=data[\"ratingComments\"].str.replace(\"alguien'\",\"algu\")\n",
    "data[\"ratingComments\"]=data[\"ratingComments\"].str.replace(\"algun'\",\"algu\")\n",
    "data[\"ratingComments\"]=data[\"ratingComments\"].str.replace(\"algui'\",\"algu\")\n",
    "data[\"ratingComments\"]=data[\"ratingComments\"].str.replace(\"altos\",\"alto\")\n",
    "data[\"ratingComments\"]=data[\"ratingComments\"].str.replace(\"amigo\",\"amig\")\n",
    "data[\"ratingComments\"]=data[\"ratingComments\"].str.replace(\"amigos\",\"amig\")\n",
    "data[\"ratingComments\"]=data[\"ratingComments\"].str.replace(\"ampliais\",\"ampli\")\n",
    "data[\"ratingComments\"]=data[\"ratingComments\"].str.replace(\"amigos\",\"amig\")\n",
    "data[\"ratingComments\"]=data[\"ratingComments\"].str.replace(\"antes\",\"anterior\")\n",
    "data[\"ratingComments\"]=data[\"ratingComments\"].str.replace(\"aparcado\",\"aparc\")\n",
    "data[\"ratingComments\"]=data[\"ratingComments\"].str.replace(\"aparcando\",\"aparc\") \n",
    "data[\"ratingComments\"]=data[\"ratingComments\"].str.replace(\"aparcar\",\"aparc\")\n",
    "data[\"ratingComments\"]=data[\"ratingComments\"].str.replace(\"aparcas\",\"aparc\")\n",
    "data[\"ratingComments\"]=data[\"ratingComments\"].str.replace(\"aparqu\",\"aparc\")\n",
    "data[\"ratingComments\"]=data[\"ratingComments\"].str.replace(\"apareci\",\"aparec\")\n",
    "data[\"ratingComments\"]=data[\"ratingComments\"].str.replace(\"aplico\",\"aplicar\")\n",
    "data[\"ratingComments\"]=data[\"ratingComments\"].str.replace(\"aplicacion\",\"app\")                                                         \n",
    "data[\"ratingComments\"]=data[\"ratingComments\"].str.replace(\"arreglenl\",\"arregl\")\n",
    "data[\"ratingComments\"]=data[\"ratingComments\"].str.replace(\"arregladla\",\"arregl\")\n",
    "data[\"ratingComments\"]=data[\"ratingComments\"].str.replace(\"arregladlo\",\"arregl\")\n",
    "data[\"ratingComments\"]=data[\"ratingComments\"].str.replace(\"arreglais\",\"arregl\")\n",
    "data[\"ratingComments\"]=data[\"ratingComments\"].str.replace(\"asiento\",\"asient\")\n",
    "data[\"ratingComments\"]=data[\"ratingComments\"].str.replace(\"asientos\",\"asient\")\n",
    "data[\"ratingComments\"]=data[\"ratingComments\"].str.replace(\"asqueroso\",\"asquer\") \n",
    "data[\"ratingComments\"]=data[\"ratingComments\"].str.replace(\"aunqeu\",\"aunqu\")                                                           \n",
    "data[\"ratingComments\"]=data[\"ratingComments\"].str.replace(\"bajais\",\"baj\")\n",
    "data[\"ratingComments\"]=data[\"ratingComments\"].str.replace(\"bajeis\",\"bajeis\")\n",
    "data[\"ratingComments\"]=data[\"ratingComments\"].str.replace(\"bajo\",\"bajeis\")                                                         \n",
    "data[\"ratingComments\"]=data[\"ratingComments\"].str.replace(\"baratit\",\"barat\")\n",
    "data[\"ratingComments\"]=data[\"ratingComments\"].str.replace(\"baratito\",\"barat\")\n",
    "data[\"ratingComments\"]=data[\"ratingComments\"].str.replace(\"barato\",\"barat\")\n",
    "data[\"ratingComments\"]=data[\"ratingComments\"].str.replace(\"baratos\",\"barat\")\n",
    "data[\"ratingComments\"]=data[\"ratingComments\"].str.replace(\"barrio\",\"barri\")                                                          \n",
    "data[\"ratingComments\"]=data[\"ratingComments\"].str.replace(\"bonito\",\"bonit\")\n",
    "data[\"ratingComments\"]=data[\"ratingComments\"].str.replace(\"bueno\",\"buen\")\n",
    "data[\"ratingComments\"]=data[\"ratingComments\"].str.replace(\"calculais\",\"calcul\")\n",
    "data[\"ratingComments\"]=data[\"ratingComments\"].str.replace(\"cam\",\"cambi\")\n",
    "data[\"ratingComments\"]=data[\"ratingComments\"].str.replace(\"cambiado\",\"cambi\")\n",
    "data[\"ratingComments\"]=data[\"ratingComments\"].str.replace(\"cambieis\",\"cambi\")\n",
    "data[\"ratingComments\"]=data[\"ratingComments\"].str.replace(\"car\",\"caro\")\n",
    "data[\"ratingComments\"]=data[\"ratingComments\"].str.replace(\"caros\",\"caro\")\n",
    "data[\"ratingComments\"]=data[\"ratingComments\"].str.replace(\"cartera\",\"carter\")\n",
    "data[\"ratingComments\"]=data[\"ratingComments\"].str.replace(\"cigarros\",\"tabac\")                                                          \n",
    "data[\"ratingComments\"]=data[\"ratingComments\"].str.replace(\"cliente\",\"client\")\n",
    "data[\"ratingComments\"]=data[\"ratingComments\"].str.replace(\"cobrais\",\"cobr\")\n",
    "data[\"ratingComments\"]=data[\"ratingComments\"].str.replace(\"cobreis\",\"cobr\")\n",
    "data[\"ratingComments\"]=data[\"ratingComments\"].str.replace(\"cobrando\",\"cobr\")\n",
    "data[\"ratingComments\"]=data[\"ratingComments\"].str.replace(\"coches\",\"coch\")                                                          \n",
    "data[\"ratingComments\"]=data[\"ratingComments\"].str.replace(\"coche\",\"coch\")\n",
    "data[\"ratingComments\"]=data[\"ratingComments\"].str.replace(\"coj\",\"cog\")\n",
    "data[\"ratingComments\"]=data[\"ratingComments\"].str.replace(\"cojo\",\"cog\")\n",
    "data[\"ratingComments\"]=data[\"ratingComments\"].str.replace(\"comodo\",\"comod\")                                                           \n",
    "data[\"ratingComments\"]=data[\"ratingComments\"].str.replace(\"conexion\",\"conect\")\n",
    "data[\"ratingComments\"]=data[\"ratingComments\"].str.replace(\"conectaba\",\"conect\")\n",
    "data[\"ratingComments\"]=data[\"ratingComments\"].str.replace(\"conectando\",\"conect\")\n",
    "data[\"ratingComments\"]=data[\"ratingComments\"].str.replace(\"conectar\",\"conect\")\n",
    "data[\"ratingComments\"]=data[\"ratingComments\"].str.replace(\"conectarme\",\"conect\")\n",
    "data[\"ratingComments\"]=data[\"ratingComments\"].str.replace(\"conectividad\",\"conect\") \n",
    "data[\"ratingComments\"]=data[\"ratingComments\"].str.replace(\"conetxion\",\"conect\")\n",
    "data[\"ratingComments\"]=data[\"ratingComments\"].str.replace(\"conexion\",\"conect\")\n",
    "data[\"ratingComments\"]=data[\"ratingComments\"].str.replace(\"contento\",\"content\")\n",
    "data[\"ratingComments\"]=data[\"ratingComments\"].str.replace(\"contabiliz\",\"cont\")  \n",
    "data[\"ratingComments\"]=data[\"ratingComments\"].str.replace(\"contando\",\"cont\") \n",
    "data[\"ratingComments\"]=data[\"ratingComments\"].str.replace(\"copiloto\",\"copilot\")                                                           \n",
    "data[\"ratingComments\"]=data[\"ratingComments\"].str.replace(\"cos\",\"cost\")\n",
    "data[\"ratingComments\"]=data[\"ratingComments\"].str.replace(\"correcto\",\"correct\")                                                          \n",
    "data[\"ratingComments\"]=data[\"ratingComments\"].str.replace(\"cuest\",\"cost\")\n",
    "data[\"ratingComments\"]=data[\"ratingComments\"].str.replace(\"culpa\",\"culp\")                                                          \n",
    "data[\"ratingComments\"]=data[\"ratingComments\"].str.replace(\"dais\",\"dar\")\n",
    "data[\"ratingComments\"]=data[\"ratingComments\"].str.replace(\"da\",\"dar\")\n",
    "data[\"ratingComments\"]=data[\"ratingComments\"].str.replace(\"dab\",\"dar\")\n",
    "data[\"ratingComments\"]=data[\"ratingComments\"].str.replace(\"dad\",\"dar\")\n",
    "data[\"ratingComments\"]=data[\"ratingComments\"].str.replace(\"dais\",\"dar\")\n",
    "data[\"ratingComments\"]=data[\"ratingComments\"].str.replace(\"dand\",\"dar\")\n",
    "data[\"ratingComments\"]=data[\"ratingComments\"].str.replace(\"dari\",\"dar\")                                                          \n",
    "data[\"ratingComments\"]=data[\"ratingComments\"].str.replace(\"deberiais\",\"deb\")\n",
    "data[\"ratingComments\"]=data[\"ratingComments\"].str.replace(\"deberi\",\"deb\")                                                          \n",
    "data[\"ratingComments\"]=data[\"ratingComments\"].str.replace(\"decepcion\",\"dec\")\n",
    "data[\"ratingComments\"]=data[\"ratingComments\"].str.replace(\"defraud\",\"dec\")\n",
    "data[\"ratingComments\"]=data[\"ratingComments\"].str.replace(\"dejais\",\"dej\")\n",
    "data[\"ratingComments\"]=data[\"ratingComments\"].str.replace(\"dejar\",\"dej\")                                                            \n",
    "data[\"ratingComments\"]=data[\"ratingComments\"].str.replace(\"demasi\",\"dem\")\n",
    "data[\"ratingComments\"]=data[\"ratingComments\"].str.replace(\"descarga\",\"descarg\")                                                          \n",
    "data[\"ratingComments\"]=data[\"ratingComments\"].str.replace(\"descuento\",\"descuent\")\n",
    "data[\"ratingComments\"]=data[\"ratingComments\"].str.replace(\"descuentos\",\"descuent\")                                                          \n",
    "data[\"ratingComments\"]=data[\"ratingComments\"].str.replace(\"devolucion\",\"devolv\")\n",
    "data[\"ratingComments\"]=data[\"ratingComments\"].str.replace(\"devolvais\",\"devolv\")\n",
    "data[\"ratingComments\"]=data[\"ratingComments\"].str.replace(\"devolveis\",\"devolv\")                                                          \n",
    "data[\"ratingComments\"]=data[\"ratingComments\"].str.replace(\"devuelv\",\"devolv\")\n",
    "data[\"ratingComments\"]=data[\"ratingComments\"].str.replace(\"devuelva\",\"devolv\")\n",
    "data[\"ratingComments\"]=data[\"ratingComments\"].str.replace(\"dias\",\"dia\")\n",
    "data[\"ratingComments\"]=data[\"ratingComments\"].str.replace(\"dich\",\"dic\")\n",
    "data[\"ratingComments\"]=data[\"ratingComments\"].str.replace(\"dijeron\",\"dic\")\n",
    "data[\"ratingComments\"]=data[\"ratingComments\"].str.replace(\"dinero\",\"diner\")\n",
    "data[\"ratingComments\"]=data[\"ratingComments\"].str.replace(\"economico\",\"econom\")\n",
    "data[\"ratingComments\"]=data[\"ratingComments\"].str.replace(\"dinero\",\"diner\")\n",
    "data[\"ratingComments\"]=data[\"ratingComments\"].str.replace(\"encantari\",\"encant\")\n",
    "data[\"ratingComments\"]=data[\"ratingComments\"].str.replace(\"encuentr\",\"encontr\")\n",
    "data[\"ratingComments\"]=data[\"ratingComments\"].str.replace(\"enfadado\",\"enfad\")                                                          \n",
    "data[\"ratingComments\"]=data[\"ratingComments\"].str.replace(\"esperaba\",\"esper\")\n",
    "data[\"ratingComments\"]=data[\"ratingComments\"].str.replace(\"esperando\",\"esper\")                                                          \n",
    "data[\"ratingComments\"]=data[\"ratingComments\"].str.replace(\"estais\",\"estar\")\n",
    "data[\"ratingComments\"]=data[\"ratingComments\"].str.replace(\"estan\",\"estar\")\n",
    "data[\"ratingComments\"]=data[\"ratingComments\"].str.replace(\"estba\",\"estar\")\n",
    "data[\"ratingComments\"]=data[\"ratingComments\"].str.replace(\"esten\",\"estar\")                                                         \n",
    "data[\"ratingComments\"]=data[\"ratingComments\"].str.replace(\"estupendo\",\"estupend\")\n",
    "data[\"ratingComments\"]=data[\"ratingComments\"].str.replace(\"excesivo\",\"exces\")\n",
    "data[\"ratingComments\"]=data[\"ratingComments\"].str.replace(\"fantastico\",\"fantast\")\n",
    "data[\"ratingComments\"]=data[\"ratingComments\"].str.replace(\"fastidieis\",\"fastidi\")\n",
    "data[\"ratingComments\"]=data[\"ratingComments\"].str.replace(\"felicitar\",\"felic\")\n",
    "data[\"ratingComments\"]=data[\"ratingComments\"].str.replace(\"feliz\",\"felic\")                                                           \n",
    "data[\"ratingComments\"]=data[\"ratingComments\"].str.replace(\"finaliz\",\"felic\")\n",
    "data[\"ratingComments\"]=data[\"ratingComments\"].str.replace(\"fumador\",\"tabac\")\n",
    "data[\"ratingComments\"]=data[\"ratingComments\"].str.replace(\"fum\",\"tabac\")\n",
    "data[\"ratingComments\"]=data[\"ratingComments\"].str.replace(\"funcionado\",\"funcion\") \n",
    "data[\"ratingComments\"]=data[\"ratingComments\"].str.replace(\"funcionab\",\"funcion\")\n",
    "data[\"ratingComments\"]=data[\"ratingComments\"].str.replace(\"gente\",\"gent\")\n",
    "data[\"ratingComments\"]=data[\"ratingComments\"].str.replace(\"guarros\",\"guarr\")\n",
    "data[\"ratingComments\"]=data[\"ratingComments\"].str.replace(\"gusot\",\"gust\")\n",
    "data[\"ratingComments\"]=data[\"ratingComments\"].str.replace(\"gustari\",\"gust\")\n",
    "data[\"ratingComments\"]=data[\"ratingComments\"].str.replace(\"gustaz\",\"gust\")                                                          \n",
    "data[\"ratingComments\"]=data[\"ratingComments\"].str.replace(\"habeis\",\"hab\")\n",
    "data[\"ratingComments\"]=data[\"ratingComments\"].str.replace(\"haber\",\"hab\")\n",
    "data[\"ratingComments\"]=data[\"ratingComments\"].str.replace(\"habi\",\"hab\")                                                          \n",
    "data[\"ratingComments\"]=data[\"ratingComments\"].str.replace(\"habi\",\"hac\")\n",
    "data[\"ratingComments\"]=data[\"ratingComments\"].str.replace(\"habr\",\"hac\")\n",
    "data[\"ratingComments\"]=data[\"ratingComments\"].str.replace(\"haceis\",\"hac\")\n",
    "data[\"ratingComments\"]=data[\"ratingComments\"].str.replace(\"haci\",\"hac\")  \n",
    "data[\"ratingComments\"]=data[\"ratingComments\"].str.replace(\"hagais\",\"hac\")  \n",
    "data[\"ratingComments\"]=data[\"ratingComments\"].str.replace(\"hago\",\"hac\")\n",
    "data[\"ratingComments\"]=data[\"ratingComments\"].str.replace(\"hagt\",\"hac\")\n",
    "data[\"ratingComments\"]=data[\"ratingComments\"].str.replace(\"hermos\",\"hac\")\n",
    "data[\"ratingComments\"]=data[\"ratingComments\"].str.replace(\"hic\",\"hac\")                                                          \n",
    "data[\"ratingComments\"]=data[\"ratingComments\"].str.replace(\"hayais\",\"hac\")\n",
    "data[\"ratingComments\"]=data[\"ratingComments\"].str.replace(\"hech\",\"hac\")\n",
    "data[\"ratingComments\"]=data[\"ratingComments\"].str.replace(\"horrible\",\"hor\")\n",
    "data[\"ratingComments\"]=data[\"ratingComments\"].str.replace(\"horribl\",\"hor\")\n",
    "data[\"ratingComments\"]=data[\"ratingComments\"].str.replace(\"horror\",\"hor\") \n",
    "data[\"ratingComments\"]=data[\"ratingComments\"].str.replace(\"iba\",\"ir\")\n",
    "data[\"ratingComments\"]=data[\"ratingComments\"].str.replace(\"ido\",\"ir\")\n",
    "data[\"ratingComments\"]=data[\"ratingComments\"].str.replace(\"impecable\",\"impec\")\n",
    "data[\"ratingComments\"]=data[\"ratingComments\"].str.replace(\"imposible\",\"impos\")                                                             \n",
    "data[\"ratingComments\"]=data[\"ratingComments\"].str.replace(\"incident\",\"incid\")\n",
    "data[\"ratingComments\"]=data[\"ratingComments\"].str.replace(\"incomoda\",\"incomod\")                                                          \n",
    "data[\"ratingComments\"]=data[\"ratingComments\"].str.replace(\"incribl\",\"increibl\")\n",
    "data[\"ratingComments\"]=data[\"ratingComments\"].str.replace(\"inmejorable\",\"inmejor\")\n",
    "data[\"ratingComments\"]=data[\"ratingComments\"].str.replace(\"izquierdo\",\"izquierd\")\n",
    "data[\"ratingComments\"]=data[\"ratingComments\"].str.replace(\"lado\",\"lad\")\n",
    "data[\"ratingComments\"]=data[\"ratingComments\"].str.replace(\"limpia\",\"limpi\")\n",
    "data[\"ratingComments\"]=data[\"ratingComments\"].str.replace(\"limpiais\",\"limpi\")\n",
    "data[\"ratingComments\"]=data[\"ratingComments\"].str.replace(\"limpiar\",\"limpi\")\n",
    "data[\"ratingComments\"]=data[\"ratingComments\"].str.replace(\"limpiez\",\"limpi\")\n",
    "data[\"ratingComments\"]=data[\"ratingComments\"].str.replace(\"limpieza\",\"limpi\")\n",
    "data[\"ratingComments\"]=data[\"ratingComments\"].str.replace(\"limpio\",\"limpi\")\n",
    "data[\"ratingComments\"]=data[\"ratingComments\"].str.replace(\"limpisim\",\"limpi\")\n",
    "data[\"ratingComments\"]=data[\"ratingComments\"].str.replace(\"limpit\",\"limpi\")\n",
    "data[\"ratingComments\"]=data[\"ratingComments\"].str.replace(\"llamado\",\"llam\")                                                          \n",
    "data[\"ratingComments\"]=data[\"ratingComments\"].str.replace(\"limpiaparabrisas\",\"limpiaparabris\")\n",
    "data[\"ratingComments\"]=data[\"ratingComments\"].str.replace(\"llegue\",\"lleg\")\n",
    "data[\"ratingComments\"]=data[\"ratingComments\"].str.replace(\"lujaz\",\"lujo\")                                                           \n",
    "data[\"ratingComments\"]=data[\"ratingComments\"].str.replace(\"maravillosos\",\"maravill\")\n",
    "data[\"ratingComments\"]=data[\"ratingComments\"].str.replace(\"majos\",\"maj\")\n",
    "data[\"ratingComments\"]=data[\"ratingComments\"].str.replace(\"malisim\",\"mal\")\n",
    "data[\"ratingComments\"]=data[\"ratingComments\"].str.replace(\"mala\",\"mal\")\n",
    "data[\"ratingComments\"]=data[\"ratingComments\"].str.replace(\"maravilla\",\"maravill\")\n",
    "data[\"ratingComments\"]=data[\"ratingComments\"].str.replace(\"maravillosos\",\"maravill\")                                                           \n",
    "data[\"ratingComments\"]=data[\"ratingComments\"].str.replace(\"megaatascos\",\"atasc\")\n",
    "data[\"ratingComments\"]=data[\"ratingComments\"].str.replace(\"menudo\",\"menud\")\n",
    "data[\"ratingComments\"]=data[\"ratingComments\"].str.replace(\"menuda\",\"menud\")                                                           \n",
    "data[\"ratingComments\"]=data[\"ratingComments\"].str.replace(\"mercado\",\"merc\")\n",
    "data[\"ratingComments\"]=data[\"ratingComments\"].str.replace(\"minutos\",\"minut\")\n",
    "data[\"ratingComments\"]=data[\"ratingComments\"].str.replace(\"mira\",\"mir\")                                                          \n",
    "data[\"ratingComments\"]=data[\"ratingComments\"].str.replace(\"mismo\",\"mism\")\n",
    "data[\"ratingComments\"]=data[\"ratingComments\"].str.replace(\"muchisim\",\"much\")\n",
    "data[\"ratingComments\"]=data[\"ratingComments\"].str.replace(\"muchisimo\",\"much\")\n",
    "data[\"ratingComments\"]=data[\"ratingComments\"].str.replace(\"muy\",\"much\")\n",
    "data[\"ratingComments\"]=data[\"ratingComments\"].str.replace(\"muuy\",\"much\")                                                          \n",
    "data[\"ratingComments\"]=data[\"ratingComments\"].str.replace(\"multa\",\"mult\")                                                          \n",
    "data[\"ratingComments\"]=data[\"ratingComments\"].str.replace(\"necesit\",\"necesar\")\n",
    "data[\"ratingComments\"]=data[\"ratingComments\"].str.replace(\"necesari\",\"necesar\")\n",
    "data[\"ratingComments\"]=data[\"ratingComments\"].str.replace(\"notaa\",\"not\")\n",
    "data[\"ratingComments\"]=data[\"ratingComments\"].str.replace(\"nuevit\",\"nuev\")\n",
    "data[\"ratingComments\"]=data[\"ratingComments\"].str.replace(\"nuevo\",\"nuev\")\n",
    "data[\"ratingComments\"]=data[\"ratingComments\"].str.replace(\"oli\",\"olor\")\n",
    "data[\"ratingComments\"]=data[\"ratingComments\"].str.replace(\"pagais\",\"pag\")\n",
    "data[\"ratingComments\"]=data[\"ratingComments\"].str.replace(\"parkings\",\"parking\")\n",
    "data[\"ratingComments\"]=data[\"ratingComments\"].str.replace(\"personal\",\"person\")\n",
    "data[\"ratingComments\"]=data[\"ratingComments\"].str.replace(\"pesima\",\"pesim\")                                                           \n",
    "data[\"ratingComments\"]=data[\"ratingComments\"].str.replace(\"pod\",\"poder\")\n",
    "data[\"ratingComments\"]=data[\"ratingComments\"].str.replace(\"podeis\",\"poder\")\n",
    "data[\"ratingComments\"]=data[\"ratingComments\"].str.replace(\"podiais\",\"poder\")                                                          \n",
    "data[\"ratingComments\"]=data[\"ratingComments\"].str.replace(\"podri\",\"poder\")\n",
    "data[\"ratingComments\"]=data[\"ratingComments\"].str.replace(\"podriais\",\"poder\")\n",
    "data[\"ratingComments\"]=data[\"ratingComments\"].str.replace(\"pud\",\"poder\")\n",
    "data[\"ratingComments\"]=data[\"ratingComments\"].str.replace(\"pued\",\"poder\")  \n",
    "data[\"ratingComments\"]=data[\"ratingComments\"].str.replace(\"puede\",\"poder\")                                                            \n",
    "data[\"ratingComments\"]=data[\"ratingComments\"].str.replace(\"pon\",\"poner\")                                                          \n",
    "data[\"ratingComments\"]=data[\"ratingComments\"].str.replace(\"pong\",\"poner\")\n",
    "data[\"ratingComments\"]=data[\"ratingComments\"].str.replace(\"poneis\",\"poner\")                                                          \n",
    "data[\"ratingComments\"]=data[\"ratingComments\"].str.replace(\"pongais\",\"poner\")\n",
    "data[\"ratingComments\"]=data[\"ratingComments\"].str.replace(\"precio\",\"preci\")\n",
    "data[\"ratingComments\"]=data[\"ratingComments\"].str.replace(\"precios\",\"preci\")\n",
    "data[\"ratingComments\"]=data[\"ratingComments\"].str.replace(\"pregunta\",\"pregunt\")\n",
    "data[\"ratingComments\"]=data[\"ratingComments\"].str.replace(\"precio\",\"preci\")\n",
    "data[\"ratingComments\"]=data[\"ratingComments\"].str.replace(\"pringoso\",\"pringos\")\n",
    "data[\"ratingComments\"]=data[\"ratingComments\"].str.replace(\"prisa\",\"pris\")\n",
    "data[\"ratingComments\"]=data[\"ratingComments\"].str.replace(\"problemas\",\"problem\")\n",
    "data[\"ratingComments\"]=data[\"ratingComments\"].str.replace(\"queja\",\"quej\")\n",
    "data[\"ratingComments\"]=data[\"ratingComments\"].str.replace(\"quer\",\"querer\")\n",
    "data[\"ratingComments\"]=data[\"ratingComments\"].str.replace(\"queri\",\"querer\")                                                        \n",
    "data[\"ratingComments\"]=data[\"ratingComments\"].str.replace(\"quereis\",\"querer\")\n",
    "data[\"ratingComments\"]=data[\"ratingComments\"].str.replace(\"quier\",\"querer\")\n",
    "data[\"ratingComments\"]=data[\"ratingComments\"].str.replace(\"quiera\",\"querer\")\n",
    "data[\"ratingComments\"]=data[\"ratingComments\"].str.replace(\"rajaz\",\"raj\")                                                          \n",
    "data[\"ratingComments\"]=data[\"ratingComments\"].str.replace(\"rapidit\",\"rapid\")\n",
    "data[\"ratingComments\"]=data[\"ratingComments\"].str.replace(\"recomendar\",\"recomend\")                                                          \n",
    "data[\"ratingComments\"]=data[\"ratingComments\"].str.replace(\"reduzcais\",\"reduc\")\n",
    "data[\"ratingComments\"]=data[\"ratingComments\"].str.replace(\"regenial\",\"genial\")\n",
    "data[\"ratingComments\"]=data[\"ratingComments\"].str.replace(\"rentable\",\"rentabl\")\n",
    "data[\"ratingComments\"]=data[\"ratingComments\"].str.replace(\"reluci'\",\"reluci\")\n",
    "data[\"ratingComments\"]=data[\"ratingComments\"].str.replace(\"reluciente\",\"reluci\")\n",
    "data[\"ratingComments\"]=data[\"ratingComments\"].str.replace(\"relucient\",\"reluci\")\n",
    "data[\"ratingComments\"]=data[\"ratingComments\"].str.replace(\"rentable\",\"rentabl\")\n",
    "data[\"ratingComments\"]=data[\"ratingComments\"].str.replace(\"resuelv\",\"resolv\")\n",
    "data[\"ratingComments\"]=data[\"ratingComments\"].str.replace(\"revisadl\",\"revis\")                                                           \n",
    "data[\"ratingComments\"]=data[\"ratingComments\"].str.replace(\"ruina\",\"ruin\")\n",
    "data[\"ratingComments\"]=data[\"ratingComments\"].str.replace(\"sabeis\",\"sab\")\n",
    "data[\"ratingComments\"]=data[\"ratingComments\"].str.replace(\"sabi\",\"sab\")                                                          \n",
    "data[\"ratingComments\"]=data[\"ratingComments\"].str.replace(\"salg\",\"sal\")\n",
    "data[\"ratingComments\"]=data[\"ratingComments\"].str.replace(\"sali\",\"sal\")\n",
    "data[\"ratingComments\"]=data[\"ratingComments\"].str.replace(\"sacais\",\"sac\")                                                          \n",
    "data[\"ratingComments\"]=data[\"ratingComments\"].str.replace(\"seais\",\"ser\")\n",
    "data[\"ratingComments\"]=data[\"ratingComments\"].str.replace(\"seri\",\"ser\")\n",
    "data[\"ratingComments\"]=data[\"ratingComments\"].str.replace(\"senaliz\",\"senal\")                                                          \n",
    "data[\"ratingComments\"]=data[\"ratingComments\"].str.replace(\"servicio\",\"servici\")\n",
    "data[\"ratingComments\"]=data[\"ratingComments\"].str.replace(\"servic\",\"servici\")\n",
    "data[\"ratingComments\"]=data[\"ratingComments\"].str.replace(\"servici\",\"servici\")  \n",
    "data[\"ratingComments\"]=data[\"ratingComments\"].str.replace(\"servicios\",\"servici\")\n",
    "data[\"ratingComments\"]=data[\"ratingComments\"].str.replace(\"solucioinad0\",\"solucion\")\n",
    "data[\"ratingComments\"]=data[\"ratingComments\"].str.replace(\"solucioneis\",\"solucion\")\n",
    "data[\"ratingComments\"]=data[\"ratingComments\"].str.replace(\"sonaba\",\"son\")                                                            \n",
    "data[\"ratingComments\"]=data[\"ratingComments\"].str.replace(\"sitios\",\"siti\")\n",
    "data[\"ratingComments\"]=data[\"ratingComments\"].str.replace(\"subis\",\"sub\")\n",
    "data[\"ratingComments\"]=data[\"ratingComments\"].str.replace(\"subi\",\"sub\")\n",
    "data[\"ratingComments\"]=data[\"ratingComments\"].str.replace(\"suciedad\",\"suci\")\n",
    "data[\"ratingComments\"]=data[\"ratingComments\"].str.replace(\"sucio\",\"suci\")\n",
    "data[\"ratingComments\"]=data[\"ratingComments\"].str.replace(\"sucios\",\"suci\")\n",
    "data[\"ratingComments\"]=data[\"ratingComments\"].str.replace(\"sucisimo\",\"suci\")                                                          \n",
    "data[\"ratingComments\"]=data[\"ratingComments\"].str.replace(\"sucied\",\"suci\")\n",
    "data[\"ratingComments\"]=data[\"ratingComments\"].str.replace(\"sucio\",\"suci\")\n",
    "data[\"ratingComments\"]=data[\"ratingComments\"].str.replace(\"suplicio\",\"suplici\")                                                          \n",
    "data[\"ratingComments\"]=data[\"ratingComments\"].str.replace(\"supong\",\"sup\")\n",
    "data[\"ratingComments\"]=data[\"ratingComments\"].str.replace(\"tambi\",\"tamb\")\n",
    "data[\"ratingComments\"]=data[\"ratingComments\"].str.replace(\"tambien\",\"tamb\") \n",
    "data[\"ratingComments\"]=data[\"ratingComments\"].str.replace(\"tanto\",\"tant\")                                                           \n",
    "data[\"ratingComments\"]=data[\"ratingComments\"].str.replace(\"teneis\",\"ten\")\n",
    "data[\"ratingComments\"]=data[\"ratingComments\"].str.replace(\"tengais'\",\"ten\")\n",
    "data[\"ratingComments\"]=data[\"ratingComments\"].str.replace(\"teneis\",\"ten\")\n",
    "data[\"ratingComments\"]=data[\"ratingComments\"].str.replace(\"teni\",\"ten\")\n",
    "data[\"ratingComments\"]=data[\"ratingComments\"].str.replace(\"teniais\",\"ten\")\n",
    "data[\"ratingComments\"]=data[\"ratingComments\"].str.replace(\"tiempor\",\"tiemp\")                                                          \n",
    "data[\"ratingComments\"]=data[\"ratingComments\"].str.replace(\"todo\",\"tod\")\n",
    "data[\"ratingComments\"]=data[\"ratingComments\"].str.replace(\"trafico\",\"trafic\")\n",
    "data[\"ratingComments\"]=data[\"ratingComments\"].str.replace(\"traser\",\"tras\")\n",
    "data[\"ratingComments\"]=data[\"ratingComments\"].str.replace(\"trayecto\",\"trayect\")                                                           \n",
    "data[\"ratingComments\"]=data[\"ratingComments\"].str.replace(\"usad\",\"usa\")\n",
    "data[\"ratingComments\"]=data[\"ratingComments\"].str.replace(\"usar\",\"usa\")\n",
    "data[\"ratingComments\"]=data[\"ratingComments\"].str.replace(\"usarl\",\"usa\")\n",
    "data[\"ratingComments\"]=data[\"ratingComments\"].str.replace(\"usen\",\"usa\")\n",
    "data[\"ratingComments\"]=data[\"ratingComments\"].str.replace(\"uso\",\"usa\")\n",
    "data[\"ratingComments\"]=data[\"ratingComments\"].str.replace(\"use\",\"usa\")\n",
    "data[\"ratingComments\"]=data[\"ratingComments\"].str.replace(\"usaros\",\"usa\")\n",
    "data[\"ratingComments\"]=data[\"ratingComments\"].str.replace(\"usen\",\"usa\") \n",
    "data[\"ratingComments\"]=data[\"ratingComments\"].str.replace(\"uso\",\"usa\") \n",
    "data[\"ratingComments\"]=data[\"ratingComments\"].str.replace(\"utiliz\",\"usa\")                                                          \n",
    "data[\"ratingComments\"]=data[\"ratingComments\"].str.replace(\"vais\",\"va\")\n",
    "data[\"ratingComments\"]=data[\"ratingComments\"].str.replace(\"vam\",\"va\")\n",
    "data[\"ratingComments\"]=data[\"ratingComments\"].str.replace(\"van\",\"va\")\n",
    "data[\"ratingComments\"]=data[\"ratingComments\"].str.replace(\"veng\",\"va\")\n",
    "data[\"ratingComments\"]=data[\"ratingComments\"].str.replace(\"vien\",\"va\")\n",
    "data[\"ratingComments\"]=data[\"ratingComments\"].str.replace(\"va\",\"ir\")                                                        \n",
    "data[\"ratingComments\"]=data[\"ratingComments\"].str.replace(\"verl\",\"ver\")\n",
    "data[\"ratingComments\"]=data[\"ratingComments\"].str.replace(\"vist\",\"ver\")                                                          \n",
    "data[\"ratingComments\"]=data[\"ratingComments\"].str.replace(\"vei\",\"ver\")\n",
    "data[\"ratingComments\"]=data[\"ratingComments\"].str.replace(\"vi\",\"ver\")                                                          \n",
    "data[\"ratingComments\"]=data[\"ratingComments\"].str.replace(\"veo\",\"ver\") \n",
    "data[\"ratingComments\"]=data[\"ratingComments\"].str.replace(\"vist\",\"ver\")                                                          \n",
    "data[\"ratingComments\"]=data[\"ratingComments\"].str.replace(\"ventanas\",\"ventan\")\n",
    "data[\"ratingComments\"]=data[\"ratingComments\"].str.replace(\"verguenz\",\"vergonz\")\n",
    "data[\"ratingComments\"]=data[\"ratingComments\"].str.replace(\"ventanill\",\"ventan\")\n",
    "data[\"ratingComments\"]=data[\"ratingComments\"].str.replace(\"viaje\",\"viaj\") \n",
    "data[\"ratingComments\"]=data[\"ratingComments\"].str.replace(\"viajecit\",\"viaj\")\n",
    "data[\"ratingComments\"]=data[\"ratingComments\"].str.replace(\"vibracion\",\"vibr\")\n",
    "data[\"ratingComments\"]=data[\"ratingComments\"].str.replace(\"vid\",\"viv\")\n",
    "data[\"ratingComments\"]=data[\"ratingComments\"].str.replace(\"vida\",\"viv\")                                                          \n",
    "data[\"ratingComments\"]=data[\"ratingComments\"].str.replace(\"volveis\",\"volv\")\n",
    "data[\"ratingComments\"]=data[\"ratingComments\"].str.replace(\"vomito\",\"vomit\")                                                          \n",
    "data[\"ratingComments\"]=data[\"ratingComments\"].str.replace(\"voy\",\"ir\")                                                          \n",
    "data[\"ratingComments\"]=data[\"ratingComments\"].str.replace(\"vosootr\",\"vosotros\")\n",
    "data[\"ratingComments\"]=data[\"ratingComments\"].str.replace(\"vueltas\",\"vuelt\")\n",
    "data[\"ratingComments\"]=data[\"ratingComments\"].str.replace(\"vuesttr\",\"vuestra\")                                                           \n",
    "data[\"ratingComments\"]=data[\"ratingComments\"].str.replace(\"yho\",\"yo\")\n",
    "data[\"ratingComments\"]=data[\"ratingComments\"].str.replace(\"zona\",\"zon\")\n",
    "data[\"ratingComments\"]=data[\"ratingComments\"].str.replace(\"zonas\",\"zon\")"
   ]
  },
  {
   "cell_type": "code",
   "execution_count": 12,
   "id": "ef6c514c",
   "metadata": {
    "ExecuteTime": {
     "end_time": "2022-05-16T13:27:09.023951Z",
     "start_time": "2022-05-16T13:27:08.991939Z"
    }
   },
   "outputs": [
    {
     "data": {
      "text/plain": [
       "[                                                                    ratingComments  \\\n",
       " 103  el,coch,estab,much,limpi                                                        \n",
       " 104  desd,la,ultim,vez,ha,mejor,mil,la,conect,y,ahor,el,coch,esta,mas,limpi.,felic   \n",
       " 105  coch,limpi,y,buen,funcion                                                       \n",
       " 106  olor,a,limpi.,que,nuev,esta                                                     \n",
       " 107  limpi                                                                           \n",
       " ..     ...                                                                           \n",
       " 761  al,atraves,un,charc,de,barr,he,ensuci,el,coch,,lo,sient                         \n",
       " 762  no,he,poder,evert,ensuci,el,coch                                                \n",
       " 763  hab,un,senor,de,la,limpi,cuand,lleg                                             \n",
       " 764  cuant,limpiis,estos,coch                                                        \n",
       " 765  se,poder,ped,que,te,limpi,el,coch,anterior,de,alquil                            \n",
       " \n",
       "     Sentiment  category  \n",
       " 103  P         Cleaning  \n",
       " 104  P         Cleaning  \n",
       " 105  P         Cleaning  \n",
       " 106  P         Cleaning  \n",
       " 107  P         Cleaning  \n",
       " ..  ..              ...  \n",
       " 761  Neu       Cleaning  \n",
       " 762  Neu       Cleaning  \n",
       " 763  Neu       Cleaning  \n",
       " 764  Neu       Cleaning  \n",
       " 765  Neu       Cleaning  \n",
       " \n",
       " [154 rows x 3 columns],\n",
       "                                                                                             ratingComments  \\\n",
       " 313  hab,mejor,la,conect,,much,graci,:')                                                                     \n",
       " 314  el,coch,ten,una,manch,en,el,asient,del,copilot.,la,conect,ha,mejor,bastant,desd,la,ultim,vez.           \n",
       " 315  algui,se,ha,deb,dej,una,carotera,,le,avers,al,servercii,de,atencion,al,client.,la,conect,ahor,ir,bien   \n",
       " 316  no,se,que,hab,hac,per,hab,mejor,la,conect.,genial,,no,lo,cambibieis                                     \n",
       " 317  me,alegr,de,que,ahor,iry,mejor,la,conect,,anterior,ir,hor                                               \n",
       " ..                                                         ...                                               \n",
       " 789  es,vuestr,culp,que,se,cort,la,conect                                                                    \n",
       " 790  la,culp,es,vuestr,porqu,se,ha,cort,la,conect,inesperadarmente,,deb,arregl,una,conect,que,ir,fatal       \n",
       " 791  se,ha,cort,la,conect,de,vuestr,lad,,esper,que,no,me,cobr                                                \n",
       " 792  esta,conect,ir,tan,mal,que,se,ha,cortado,,exij,que,no,me,cobr,eso                                       \n",
       " 793  pesim,conect,que,se,cort,constant                                                                       \n",
       " \n",
       "     Sentiment    category  \n",
       " 313  P         Connection  \n",
       " 314  P         Connection  \n",
       " 315  P         Connection  \n",
       " 316  P         Connection  \n",
       " 317  P         Connection  \n",
       " ..  ..                ...  \n",
       " 789  N         Connection  \n",
       " 790  N         Connection  \n",
       " 791  N         Connection  \n",
       " 792  N         Connection  \n",
       " 793  N         Connection  \n",
       " \n",
       " [193 rows x 3 columns],\n",
       "                                                                           ratingComments  \\\n",
       " 223  he,aparc,en,un,santiam,y,graci,a,que,ten,zon,hablit,par,ello,,graci,graci,graci       \n",
       " 224  aparc,rap,y,sencill                                                                   \n",
       " 225  cad,vez,me,gust,mas,estos,coch,que,se,aparc,casi,sol                                  \n",
       " 226  he,lleg,en,tiemp,record,,y,he,aparc,rapidisim                                         \n",
       " 227  me,encontr,con,uno,de,vuestr,siti,y,meti,el,coch,ahi,,much,content                    \n",
       " ..                                                                  ...                    \n",
       " 849  aparc,en,vuestr,parking,es,impos,,a,ver,si,lo,dej,mas,clar                            \n",
       " 850  llev,15,minut,aparc                                                                   \n",
       " 851  he,estad,20,minut,par,aparc,,mil,anos                                                 \n",
       " 852  30,minut,y,aun,asi,cre,que,me,hab,cobr,de,mas,cuand,al,aparc,ha,sid,cost,del,sistem   \n",
       " 853  30,minut,par,aparc,,que,desastr                                                       \n",
       " \n",
       "     Sentiment category  \n",
       " 223  P         Parking  \n",
       " 224  P         Parking  \n",
       " 225  P         Parking  \n",
       " 226  P         Parking  \n",
       " 227  P         Parking  \n",
       " ..  ..             ...  \n",
       " 849  N         Parking  \n",
       " 850  N         Parking  \n",
       " 851  N         Parking  \n",
       " 852  N         Parking  \n",
       " 853  N         Parking  \n",
       " \n",
       " [233 rows x 3 columns],\n",
       "                                                                                            ratingComments  \\\n",
       " 0    es,much,caro,baj,los,preci                                                                             \n",
       " 1    lo,hab,puest,mas,caro                                                                                  \n",
       " 2    los,coch,que,ten,no,se,corresponerd,con,el,preci,que,ponereis,es,una,vergonz                           \n",
       " 3    esper,que,bajeis,el,preci                                                                              \n",
       " 4    cobr,por,tod,,a,este,ritm,yo,me,cambibi                                                                \n",
       " ..                                       ...                                                                \n",
       " 814  ten,unos,preci,maraverll                                                                               \n",
       " 815  me,parec,maraverll,los,descuent,que,darr,per,por,favor,vergil,a,los,otros,pasajer,porqu,huel,a,tabac   \n",
       " 816  es,maraverll,tant,preci,com,el,coch,que,es,bien,rech                                                   \n",
       " 817  maraverll,preci                                                                                        \n",
       " 818  me,parec,much,econom,,especial,con,los,descuent,que,darr                                               \n",
       " \n",
       "     Sentiment category  \n",
       " 0    N         Price    \n",
       " 1    N         Price    \n",
       " 2    N         Price    \n",
       " 3    N         Price    \n",
       " 4    N         Price    \n",
       " ..  ..           ...    \n",
       " 814  P         Price    \n",
       " 815  P         Price    \n",
       " 816  P         Price    \n",
       " 817  P         Price    \n",
       " 818  P         Price    \n",
       " \n",
       " [274 rows x 3 columns]]"
      ]
     },
     "execution_count": 12,
     "metadata": {},
     "output_type": "execute_result"
    }
   ],
   "source": [
    "gb = data.groupby('category')    \n",
    "[gb.get_group(x) for x in gb.groups]"
   ]
  },
  {
   "cell_type": "code",
   "execution_count": 13,
   "id": "919a6500",
   "metadata": {
    "ExecuteTime": {
     "end_time": "2022-05-16T13:27:14.554110Z",
     "start_time": "2022-05-16T13:27:14.546115Z"
    }
   },
   "outputs": [],
   "source": [
    "#Price\n",
    "Price=gb.get_group('Price')\n",
    "\n",
    "#Cleaning\n",
    "Cleaning=gb.get_group('Cleaning')\n",
    "\n",
    "#Parking\n",
    "Parking=gb.get_group('Parking')\n",
    "\n",
    "#Conection\n",
    "Conection=gb.get_group('Connection')"
   ]
  },
  {
   "cell_type": "code",
   "execution_count": 14,
   "id": "a8a18615",
   "metadata": {
    "ExecuteTime": {
     "end_time": "2022-05-16T13:27:15.694351Z",
     "start_time": "2022-05-16T13:27:15.672388Z"
    }
   },
   "outputs": [],
   "source": [
    "#Price\n",
    "features_Price = Price.iloc[:, 0].values\n",
    "labels_Price = Price.iloc[:, 1].values\n",
    "\n",
    "#Cleaning\n",
    "features_Cleaning = Cleaning.iloc[:, 0].values\n",
    "labels_Cleaning = Cleaning.iloc[:, 1].values\n",
    "\n",
    "#Parking\n",
    "features_Parking = Parking.iloc[:, 0].values\n",
    "labels_Parking = Parking.iloc[:, 1].values\n",
    "\n",
    "#Conection\n",
    "features_Conection = Conection.iloc[:, 0].values\n",
    "labels_Conection = Conection.iloc[:, 1].values"
   ]
  },
  {
   "cell_type": "code",
   "execution_count": 15,
   "id": "d262b5b9",
   "metadata": {
    "ExecuteTime": {
     "end_time": "2022-05-16T13:27:16.553548Z",
     "start_time": "2022-05-16T13:27:16.272849Z"
    }
   },
   "outputs": [],
   "source": [
    "from nltk.corpus import stopwords\n",
    "from sklearn.feature_extraction.text import TfidfVectorizer\n",
    "\n",
    "vectorizer = TfidfVectorizer (max_features=2500, min_df=7, max_df=0.8, stop_words=stopwords.words('english'))\n",
    "\n",
    "\n",
    "#Price\n",
    "processed_features_Price = vectorizer.fit_transform(features_Price).toarray()\n",
    "\n",
    "#Cleaning\n",
    "processed_features_Cleaning = vectorizer.fit_transform(features_Cleaning).toarray()\n",
    "\n",
    "#Parking\n",
    "processed_features_Parking = vectorizer.fit_transform(features_Parking).toarray()\n",
    "\n",
    "#Conection\n",
    "processed_features_Conection = vectorizer.fit_transform(features_Conection).toarray()\n"
   ]
  },
  {
   "cell_type": "code",
   "execution_count": 16,
   "id": "d343ebf4",
   "metadata": {
    "ExecuteTime": {
     "end_time": "2022-05-16T13:27:16.899331Z",
     "start_time": "2022-05-16T13:27:16.888302Z"
    }
   },
   "outputs": [],
   "source": [
    "from sklearn.model_selection import train_test_split\n",
    "\n",
    "\n",
    "#Price\n",
    "X_train_Price, X_test_Price, Y_train_Price, Y_test_Price = train_test_split(processed_features_Price, labels_Price, test_size=0.2, random_state=0)\n",
    "\n",
    "#Cleaning\n",
    "X_train_Cleaning, X_test_Cleaning, Y_train_Cleaning, Y_test_Cleaning = train_test_split(processed_features_Cleaning, labels_Cleaning, test_size=0.2, random_state=0)\n",
    "\n",
    "#Parking\n",
    "X_train_Parking, X_test_Parking, Y_train_Parking, Y_test_Parking = train_test_split(processed_features_Parking, labels_Parking, test_size=0.2, random_state=0)\n",
    "\n",
    "#Conection\n",
    "X_train_Conection, X_test_Conection, Y_train_Conection, Y_test_Conection = train_test_split(processed_features_Conection, labels_Conection, test_size=0.2, random_state=0)\n"
   ]
  },
  {
   "cell_type": "code",
   "execution_count": 17,
   "id": "2f01f391",
   "metadata": {
    "ExecuteTime": {
     "end_time": "2022-05-14T19:46:35.898224Z",
     "start_time": "2022-05-14T19:46:33.127057Z"
    }
   },
   "outputs": [
    {
     "name": "stdout",
     "output_type": "stream",
     "text": [
      "Price\n",
      "Fitting 10 folds for each of 100 candidates, totalling 1000 fits\n",
      "GaussianNB(var_smoothing=0.08111308307896872)\n"
     ]
    }
   ],
   "source": [
    "print(\"Price\")\n",
    "\n",
    "param_grid_nb = {\n",
    "    'var_smoothing': np.logspace(0,-9, num=100)\n",
    "}\n",
    "\n",
    "from sklearn.naive_bayes import GaussianNB\n",
    "from sklearn.model_selection import GridSearchCV\n",
    "from sklearn.impute import SimpleImputer\n",
    "from sklearn.preprocessing import StandardScaler\n",
    "\n",
    "\n",
    "nbModel_grid = GridSearchCV(estimator=GaussianNB(), param_grid=param_grid_nb, verbose=1, cv=10, n_jobs=-1)\n",
    "nbModel_grid.fit(X_train_Price, Y_train_Price)\n",
    "print(nbModel_grid.best_estimator_)"
   ]
  },
  {
   "cell_type": "code",
   "execution_count": 18,
   "id": "7ab52e56",
   "metadata": {
    "ExecuteTime": {
     "end_time": "2022-05-14T19:46:36.464218Z",
     "start_time": "2022-05-14T19:46:35.900217Z"
    }
   },
   "outputs": [
    {
     "name": "stdout",
     "output_type": "stream",
     "text": [
      "Fitting 10 folds for each of 100 candidates, totalling 1000 fits\n",
      "GaussianNB(var_smoothing=0.657933224657568)\n"
     ]
    }
   ],
   "source": [
    "nbModel_grid.fit(X_train_Cleaning, Y_train_Cleaning)\n",
    "print(nbModel_grid.best_estimator_)"
   ]
  },
  {
   "cell_type": "code",
   "execution_count": 19,
   "id": "e31c8bcf",
   "metadata": {
    "ExecuteTime": {
     "end_time": "2022-05-14T19:46:37.048221Z",
     "start_time": "2022-05-14T19:46:36.466226Z"
    }
   },
   "outputs": [
    {
     "name": "stdout",
     "output_type": "stream",
     "text": [
      "Fitting 10 folds for each of 100 candidates, totalling 1000 fits\n",
      "GaussianNB(var_smoothing=0.01519911082952933)\n"
     ]
    }
   ],
   "source": [
    "nbModel_grid.fit(X_train_Parking, Y_train_Parking)\n",
    "print(nbModel_grid.best_estimator_)"
   ]
  },
  {
   "cell_type": "code",
   "execution_count": 20,
   "id": "75e280e9",
   "metadata": {
    "ExecuteTime": {
     "end_time": "2022-05-14T19:46:37.616233Z",
     "start_time": "2022-05-14T19:46:37.050252Z"
    }
   },
   "outputs": [
    {
     "name": "stdout",
     "output_type": "stream",
     "text": [
      "Fitting 10 folds for each of 100 candidates, totalling 1000 fits\n",
      "GaussianNB(var_smoothing=0.02848035868435802)\n"
     ]
    }
   ],
   "source": [
    "nbModel_grid.fit(X_train_Conection, Y_train_Conection)\n",
    "print(nbModel_grid.best_estimator_)"
   ]
  },
  {
   "cell_type": "code",
   "execution_count": 18,
   "id": "2eedd4bc",
   "metadata": {
    "ExecuteTime": {
     "end_time": "2022-05-16T13:27:36.179864Z",
     "start_time": "2022-05-16T13:27:35.985557Z"
    }
   },
   "outputs": [
    {
     "data": {
      "text/plain": [
       "GaussianNB(var_smoothing=0.02848035868435802)"
      ]
     },
     "execution_count": 18,
     "metadata": {},
     "output_type": "execute_result"
    }
   ],
   "source": [
    "from sklearn.naive_bayes import GaussianNB\n",
    "\n",
    "#Price\n",
    "text_classifier_Price = GaussianNB(var_smoothing=0.08111308307896872)\n",
    "text_classifier_Price.fit(X_train_Price, Y_train_Price)\n",
    "\n",
    "#Cleaning\n",
    "text_classifier_Cleaning = GaussianNB(var_smoothing=0.657933224657568)\n",
    "text_classifier_Cleaning.fit(X_train_Cleaning, Y_train_Cleaning)\n",
    "\n",
    "#Parking\n",
    "text_classifier_Parking = GaussianNB(var_smoothing=0.01519911082952933)\n",
    "text_classifier_Parking.fit(X_train_Parking, Y_train_Parking)\n",
    "\n",
    "#Conection\n",
    "text_classifier_Conection = GaussianNB(var_smoothing=0.02848035868435802)\n",
    "text_classifier_Conection.fit(X_train_Conection, Y_train_Conection)\n"
   ]
  },
  {
   "cell_type": "code",
   "execution_count": 19,
   "id": "4953b471",
   "metadata": {
    "ExecuteTime": {
     "end_time": "2022-05-16T13:27:37.144919Z",
     "start_time": "2022-05-16T13:27:37.127877Z"
    }
   },
   "outputs": [],
   "source": [
    "#Price\n",
    "predictions_Price = text_classifier_Price.predict(X_test_Price)\n",
    "\n",
    "#Cleaning\n",
    "predictions_Cleaning = text_classifier_Cleaning.predict(X_test_Cleaning)\n",
    "\n",
    "#Parking\n",
    "predictions_Parking = text_classifier_Parking.predict(X_test_Parking)\n",
    "\n",
    "#Conection\n",
    "predictions_Conection = text_classifier_Conection.predict(X_test_Conection)\n"
   ]
  },
  {
   "cell_type": "code",
   "execution_count": 20,
   "id": "2599cdca",
   "metadata": {
    "ExecuteTime": {
     "end_time": "2022-05-16T13:27:38.272553Z",
     "start_time": "2022-05-16T13:27:38.233554Z"
    }
   },
   "outputs": [
    {
     "name": "stdout",
     "output_type": "stream",
     "text": [
      "Price\n",
      "[[10  3  2]\n",
      " [ 1 13  0]\n",
      " [ 1  4 21]]\n",
      "              precision    recall  f1-score   support\n",
      "\n",
      "           N       0.83      0.67      0.74        15\n",
      "         Neu       0.65      0.93      0.76        14\n",
      "           P       0.91      0.81      0.86        26\n",
      "\n",
      "    accuracy                           0.80        55\n",
      "   macro avg       0.80      0.80      0.79        55\n",
      "weighted avg       0.82      0.80      0.80        55\n",
      "\n",
      "0.8\n",
      "Cleaning\n",
      "[[9 2 3]\n",
      " [0 5 1]\n",
      " [0 2 9]]\n",
      "              precision    recall  f1-score   support\n",
      "\n",
      "           N       1.00      0.64      0.78        14\n",
      "         Neu       0.56      0.83      0.67         6\n",
      "           P       0.69      0.82      0.75        11\n",
      "\n",
      "    accuracy                           0.74        31\n",
      "   macro avg       0.75      0.76      0.73        31\n",
      "weighted avg       0.80      0.74      0.75        31\n",
      "\n",
      "0.7419354838709677\n",
      "Parking\n",
      "[[14  1  0]\n",
      " [ 2 12  0]\n",
      " [ 2  1 15]]\n",
      "              precision    recall  f1-score   support\n",
      "\n",
      "           N       0.78      0.93      0.85        15\n",
      "         Neu       0.86      0.86      0.86        14\n",
      "           P       1.00      0.83      0.91        18\n",
      "\n",
      "    accuracy                           0.87        47\n",
      "   macro avg       0.88      0.87      0.87        47\n",
      "weighted avg       0.89      0.87      0.87        47\n",
      "\n",
      "0.8723404255319149\n",
      "Conection\n",
      "[[10  0  2]\n",
      " [ 0 13  1]\n",
      " [ 0  0 13]]\n",
      "              precision    recall  f1-score   support\n",
      "\n",
      "           N       1.00      0.83      0.91        12\n",
      "         Neu       1.00      0.93      0.96        14\n",
      "           P       0.81      1.00      0.90        13\n",
      "\n",
      "    accuracy                           0.92        39\n",
      "   macro avg       0.94      0.92      0.92        39\n",
      "weighted avg       0.94      0.92      0.92        39\n",
      "\n",
      "0.9230769230769231\n"
     ]
    }
   ],
   "source": [
    "from sklearn.metrics import classification_report, confusion_matrix, accuracy_score\n",
    "\n",
    "#Price\n",
    "print(\"Price\")\n",
    "print(confusion_matrix(Y_test_Price,predictions_Price))\n",
    "print(classification_report(Y_test_Price,predictions_Price))\n",
    "print(accuracy_score(Y_test_Price, predictions_Price))\n",
    "\n",
    "#Cleaning\n",
    "print(\"Cleaning\")\n",
    "print(confusion_matrix(Y_test_Cleaning,predictions_Cleaning))\n",
    "print(classification_report(Y_test_Cleaning,predictions_Cleaning))\n",
    "print(accuracy_score(Y_test_Cleaning, predictions_Cleaning))\n",
    "\n",
    "#Parking\n",
    "print(\"Parking\")\n",
    "print(confusion_matrix(Y_test_Parking,predictions_Parking))\n",
    "print(classification_report(Y_test_Parking,predictions_Parking))\n",
    "print(accuracy_score(Y_test_Parking, predictions_Parking))\n",
    "\n",
    "#Conection\n",
    "print(\"Conection\")\n",
    "print(confusion_matrix(Y_test_Conection,predictions_Conection))\n",
    "print(classification_report(Y_test_Conection,predictions_Conection))\n",
    "print(accuracy_score(Y_test_Conection, predictions_Conection))"
   ]
  },
  {
   "cell_type": "code",
   "execution_count": 21,
   "id": "99b9fc67",
   "metadata": {
    "ExecuteTime": {
     "end_time": "2022-05-16T13:27:53.532397Z",
     "start_time": "2022-05-16T13:27:53.513360Z"
    }
   },
   "outputs": [
    {
     "data": {
      "text/plain": [
       "{'priors': None, 'var_smoothing': 0.08111308307896872}"
      ]
     },
     "execution_count": 21,
     "metadata": {},
     "output_type": "execute_result"
    }
   ],
   "source": [
    "text_classifier_Price.get_params()"
   ]
  },
  {
   "cell_type": "code",
   "execution_count": 22,
   "id": "eff02fbb",
   "metadata": {
    "ExecuteTime": {
     "end_time": "2022-05-16T13:28:05.722720Z",
     "start_time": "2022-05-16T13:28:05.712723Z"
    }
   },
   "outputs": [
    {
     "data": {
      "text/plain": [
       "{'priors': None, 'var_smoothing': 0.657933224657568}"
      ]
     },
     "execution_count": 22,
     "metadata": {},
     "output_type": "execute_result"
    }
   ],
   "source": [
    "text_classifier_Cleaning.get_params()"
   ]
  },
  {
   "cell_type": "code",
   "execution_count": 24,
   "id": "e19e84ea",
   "metadata": {
    "ExecuteTime": {
     "end_time": "2022-05-16T13:28:26.850639Z",
     "start_time": "2022-05-16T13:28:26.841674Z"
    }
   },
   "outputs": [
    {
     "data": {
      "text/plain": [
       "{'priors': None, 'var_smoothing': 0.01519911082952933}"
      ]
     },
     "execution_count": 24,
     "metadata": {},
     "output_type": "execute_result"
    }
   ],
   "source": [
    "text_classifier_Parking.get_params()"
   ]
  },
  {
   "cell_type": "code",
   "execution_count": 23,
   "id": "6b366cd3",
   "metadata": {
    "ExecuteTime": {
     "end_time": "2022-05-16T13:28:12.225613Z",
     "start_time": "2022-05-16T13:28:12.207613Z"
    }
   },
   "outputs": [
    {
     "data": {
      "text/plain": [
       "{'priors': None, 'var_smoothing': 0.02848035868435802}"
      ]
     },
     "execution_count": 23,
     "metadata": {},
     "output_type": "execute_result"
    }
   ],
   "source": [
    "text_classifier_Conection.get_params()"
   ]
  },
  {
   "cell_type": "code",
   "execution_count": null,
   "id": "ba37f193",
   "metadata": {},
   "outputs": [],
   "source": []
  }
 ],
 "metadata": {
  "kernelspec": {
   "display_name": "Python 3",
   "language": "python",
   "name": "python3"
  },
  "language_info": {
   "codemirror_mode": {
    "name": "ipython",
    "version": 3
   },
   "file_extension": ".py",
   "mimetype": "text/x-python",
   "name": "python",
   "nbconvert_exporter": "python",
   "pygments_lexer": "ipython3",
   "version": "3.8.8"
  },
  "latex_envs": {
   "LaTeX_envs_menu_present": true,
   "autoclose": false,
   "autocomplete": true,
   "bibliofile": "biblio.bib",
   "cite_by": "apalike",
   "current_citInitial": 1,
   "eqLabelWithNumbers": true,
   "eqNumInitial": 1,
   "hotkeys": {
    "equation": "Ctrl-E",
    "itemize": "Ctrl-I"
   },
   "labels_anchors": false,
   "latex_user_defs": false,
   "report_style_numbering": false,
   "user_envs_cfg": false
  }
 },
 "nbformat": 4,
 "nbformat_minor": 5
}
